{
 "cells": [
  {
   "cell_type": "code",
   "execution_count": 1,
   "id": "6ba82624-37c0-4a13-855f-b85845448256",
   "metadata": {},
   "outputs": [
    {
     "name": "stdout",
     "output_type": "stream",
     "text": [
      "Requirement already satisfied: pyTelegramBotAPI in c:\\users\\navazhdenie\\anaconda3\\lib\\site-packages (4.11.0)\n",
      "Requirement already satisfied: requests in c:\\users\\navazhdenie\\anaconda3\\lib\\site-packages (from pyTelegramBotAPI) (2.27.1)\n",
      "Requirement already satisfied: urllib3<1.27,>=1.21.1 in c:\\users\\navazhdenie\\anaconda3\\lib\\site-packages (from requests->pyTelegramBotAPI) (1.26.9)\n",
      "Requirement already satisfied: certifi>=2017.4.17 in c:\\users\\navazhdenie\\anaconda3\\lib\\site-packages (from requests->pyTelegramBotAPI) (2022.9.24)\n",
      "Requirement already satisfied: idna<4,>=2.5 in c:\\users\\navazhdenie\\anaconda3\\lib\\site-packages (from requests->pyTelegramBotAPI) (3.3)\n",
      "Requirement already satisfied: charset-normalizer~=2.0.0 in c:\\users\\navazhdenie\\anaconda3\\lib\\site-packages (from requests->pyTelegramBotAPI) (2.0.4)\n",
      "Requirement already satisfied: requests in c:\\users\\navazhdenie\\anaconda3\\lib\\site-packages (2.27.1)\n",
      "Requirement already satisfied: urllib3<1.27,>=1.21.1 in c:\\users\\navazhdenie\\anaconda3\\lib\\site-packages (from requests) (1.26.9)\n",
      "Requirement already satisfied: certifi>=2017.4.17 in c:\\users\\navazhdenie\\anaconda3\\lib\\site-packages (from requests) (2022.9.24)\n",
      "Requirement already satisfied: charset-normalizer~=2.0.0 in c:\\users\\navazhdenie\\anaconda3\\lib\\site-packages (from requests) (2.0.4)\n",
      "Requirement already satisfied: idna<4,>=2.5 in c:\\users\\navazhdenie\\anaconda3\\lib\\site-packages (from requests) (3.3)\n"
     ]
    }
   ],
   "source": [
    "!pip install pyTelegramBotAPI \n",
    "!pip install requests\n",
    "import telebot\n",
    "import requests\n",
    "import json"
   ]
  },
  {
   "cell_type": "code",
   "execution_count": null,
   "id": "d6820ae3-aef5-49c0-b8a4-c759462469a4",
   "metadata": {},
   "outputs": [],
   "source": [
    "api_token = 'токен'\n",
    "\n",
    "url = \"https://api.weather.yandex.ru/v2/informers?lat=59.9342802&lon=30.3350986&[lang=«ru_RU»]\"\n",
    "headers = {\"X-Yandex-API-Key\": \"ключ\"}\n",
    "\n",
    "bot = telebot.TeleBot(api_token)\n",
    "\n",
    "@bot.message_handler(commands=['start'])\n",
    "def get_weather(message):\n",
    "    #эта функция пишет стартовое сообщение с именем пользователя\n",
    "    bot.send_message(message.chat.id, text=f'Привет, {message.from_user.username}! \\n\\nЯ могу показать тебе текущую погоду в Санкт-Петербурге: \\n/get_weather')\n",
    "\n",
    "@bot.message_handler(commands=['get_weather'])\n",
    "def get_weather(message):\n",
    "    #эта функция выдает ответ на запрос о погоде спб\n",
    "    r = requests.get(url=url, headers=headers)\n",
    "    if r.status_code == 200:\n",
    "        data = json.loads(r.text)\n",
    "        fact = data[\"fact\"]\n",
    "        bot.send_message(message.chat.id, \\\n",
    "                         text=f'Сейчас в Санкт-Петербурге {fact[\"temp\"]}°, ощущается как {fact[\"feels_like\"]}°.\\\n",
    "                         \\nСкорость ветра {fact[\"wind_speed\"]}м/с. Порывы до {fact[\"wind_gust\"]}м/с.\\\n",
    "                         \\nСейчас на улице {fact[\"condition\"]} \\\n",
    "                         \\nВлажность воздуха составляет {fact[\"humidity\"]}%.')\n",
    "    else:\n",
    "        bot.send_message(message.chat.id, 'Проблемы с АPI')\n",
    "bot.polling(none_stop=True)"
   ]
  }
 ],
 "metadata": {
  "kernelspec": {
   "display_name": "Python 3 (ipykernel)",
   "language": "python",
   "name": "python3"
  },
  "language_info": {
   "codemirror_mode": {
    "name": "ipython",
    "version": 3
   },
   "file_extension": ".py",
   "mimetype": "text/x-python",
   "name": "python",
   "nbconvert_exporter": "python",
   "pygments_lexer": "ipython3",
   "version": "3.9.12"
  }
 },
 "nbformat": 4,
 "nbformat_minor": 5
}
